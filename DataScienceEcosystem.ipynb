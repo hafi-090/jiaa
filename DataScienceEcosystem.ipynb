{
 "cells": [
  {
   "cell_type": "markdown",
   "id": "b0445b4f-b6e0-4c37-9098-09a601ba77c7",
   "metadata": {},
   "source": [
    "# Data Science Tools and Ecosystem"
   ]
  },
  {
   "cell_type": "markdown",
   "id": "78473046-ddc7-4026-894b-0e1b43d4c57d",
   "metadata": {},
   "source": [
    "## Author\n",
    "\n",
    "Hafis Habeeb"
   ]
  },
  {
   "cell_type": "markdown",
   "id": "ef18b39d-36fe-4899-bb94-caab44443a2a",
   "metadata": {},
   "source": [
    "In this notebook, Data Science Tools and Ecosystem are summarized.\n"
   ]
  },
  {
   "cell_type": "markdown",
   "id": "92aea347-54b0-42b3-8b07-1ab8956de49d",
   "metadata": {
    "tags": []
   },
   "source": [
    "**Objectives:**\n",
    "\n",
    "- R\n",
    "- python\n",
    "- scala"
   ]
  },
  {
   "cell_type": "markdown",
   "id": "06e2e4de-d3c5-4d10-bdee-223567a79e9d",
   "metadata": {},
   "source": [
    "Some of the popular languages that Data Scientists use are:\n",
    "1. Python\n",
    "2. R\n",
    "3. SQL\n",
    "4. Julia\n",
    "5. Scala"
   ]
  },
  {
   "cell_type": "markdown",
   "id": "ffba7da8-e4d9-4224-bc95-0fa9273a538b",
   "metadata": {},
   "source": [
    "Some of the commonly used libraries used by Data Scientists include:\n",
    "1. NumPy\n",
    "2. pandas\n",
    "3. Matplotlib\n",
    "4. Seaborn\n",
    "5. Scikit-learn\n",
    "6. TensorFlo"
   ]
  },
  {
   "cell_type": "markdown",
   "id": "32e58825-f267-4310-ac61-26c9aeefcfc1",
   "metadata": {},
   "source": [
    "| Data Science Tools |\n",
    "|--------------------|\n",
    "\n",
    "| Jupyter Notebook   |\n",
    "| RStudio            |\n",
    "| VS Code            |"
   ]
  },
  {
   "cell_type": "markdown",
   "id": "34751d40-168d-4a06-b2a2-a0a05af1294f",
   "metadata": {},
   "source": [
    "### Below are a few examples of evaluating arithmetic expressions in Python\n",
    "1. result = 5 + 3\n",
    "   print(result)\n",
    "2. result = 2 ** 3\n",
    "   print(result)\n",
    "3. result = 20 / 5\n",
    "   print(result) "
   ]
  },
  {
   "cell_type": "code",
   "execution_count": 1,
   "id": "ff3cc025-f170-4035-a145-aafec9165ee3",
   "metadata": {
    "tags": []
   },
   "outputs": [
    {
     "name": "stdout",
     "output_type": "stream",
     "text": [
      "17\n"
     ]
    }
   ],
   "source": [
    "# Multiply 3 by 4 and then add 5\n",
    "result = (3 * 4) + 5\n",
    "print(result)"
   ]
  },
  {
   "cell_type": "code",
   "execution_count": 2,
   "id": "e3fe5ce4-ff4a-4fd8-9880-f55a2a06461f",
   "metadata": {
    "tags": []
   },
   "outputs": [
    {
     "name": "stdout",
     "output_type": "stream",
     "text": [
      "3.3333333333333335\n"
     ]
    }
   ],
   "source": [
    "# Convert 200 minutes to hours\n",
    "minutes = 200\n",
    "hours = minutes / 60\n",
    "print(hours) "
   ]
  },
  {
   "cell_type": "code",
   "execution_count": null,
   "id": "3ae08cfc-6a9c-462b-8104-fbddc9a1c238",
   "metadata": {},
   "outputs": [],
   "source": []
  }
 ],
 "metadata": {
  "kernelspec": {
   "display_name": "Python",
   "language": "python",
   "name": "conda-env-python-py"
  },
  "language_info": {
   "codemirror_mode": {
    "name": "ipython",
    "version": 3
   },
   "file_extension": ".py",
   "mimetype": "text/x-python",
   "name": "python",
   "nbconvert_exporter": "python",
   "pygments_lexer": "ipython3",
   "version": "3.7.12"
  }
 },
 "nbformat": 4,
 "nbformat_minor": 5
}
